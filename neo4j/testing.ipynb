{
 "cells": [
  {
   "cell_type": "code",
   "execution_count": 1,
   "metadata": {},
   "outputs": [],
   "source": [
    "import os\n",
    "from neo4j import GraphDatabase\n",
    "from dotenv import load_dotenv\n",
    "from pymongo import MongoClient\n",
    "load_dotenv('../.env')\n",
    "\n",
    "neo_uri = os.getenv('NEO4J_URI')\n",
    "neo_auth = (os.getenv('NEO4J_USERNAME'), os.getenv('NEO4J_PASSWORD'))\n",
    "neo_drive = GraphDatabase.driver(neo_uri, auth=neo_auth)\n",
    "\n",
    "# Connessione al database MongoDB\n",
    "mongo_client = MongoClient(os.getenv('MONGO_URI')) #connessione a database Atlas\n",
    "mongo_db = mongo_client.nosqlproject\n",
    "mongo_collection = mongo_db.books"
   ]
  },
  {
   "cell_type": "code",
   "execution_count": 2,
   "metadata": {},
   "outputs": [
    {
     "data": {
      "text/plain": [
       "'francesco0010'"
      ]
     },
     "execution_count": 2,
     "metadata": {},
     "output_type": "execute_result"
    }
   ],
   "source": [
    "records[0]['u']['login']"
   ]
  },
  {
   "cell_type": "code",
   "execution_count": 2,
   "metadata": {},
   "outputs": [],
   "source": [
    "books = mongo_collection.find({}, {'book_title', 'book_category'})"
   ]
  },
  {
   "cell_type": "code",
   "execution_count": 20,
   "metadata": {},
   "outputs": [
    {
     "data": {
      "text/plain": [
       "1000"
      ]
     },
     "execution_count": 20,
     "metadata": {},
     "output_type": "execute_result"
    }
   ],
   "source": [
    "books.explain()['executionStats']['nReturned']"
   ]
  },
  {
   "cell_type": "code",
   "execution_count": 29,
   "metadata": {},
   "outputs": [],
   "source": [
    "query_results = mongo_collection.find({'book_title': {'$regex': 'death', '$options': 'i'}}, {'book_title'})"
   ]
  },
  {
   "cell_type": "code",
   "execution_count": 30,
   "metadata": {},
   "outputs": [
    {
     "data": {
      "text/plain": [
       "[{'_id': ObjectId('660ab6afcee58e5ddcdd0ad2'),\n",
       "  'book_title': 'The Death of Humanity: and the Case for Life'},\n",
       " {'_id': ObjectId('660ab6b6cee58e5ddcdd0aff'),\n",
       "  'book_title': 'Codename Baboushka, Volume 1: The Conclave of Death'},\n",
       " {'_id': ObjectId('660ab6f1cee58e5ddcdd0c72'),\n",
       "  'book_title': 'Death by Leisure: A Cautionary Tale'},\n",
       " {'_id': ObjectId('660ab6fdcee58e5ddcdd0ccd'),\n",
       "  'book_title': 'Death Note, Vol. 6: Give-and-Take (Death Note #6)'},\n",
       " {'_id': ObjectId('660ab707cee58e5ddcdd0d06'),\n",
       "  'book_title': 'Death Note, Vol. 5: Whiteout (Death Note #5)'},\n",
       " {'_id': ObjectId('660ab707cee58e5ddcdd0cfd'),\n",
       "  'book_title': 'Harry Potter and the Deathly Hallows (Harry Potter #7)'}]"
      ]
     },
     "execution_count": 30,
     "metadata": {},
     "output_type": "execute_result"
    }
   ],
   "source": [
    "list(query_results)"
   ]
  },
  {
   "cell_type": "code",
   "execution_count": 10,
   "metadata": {},
   "outputs": [],
   "source": [
    "for book in books:\n",
    "    title = book['book_title']\n",
    "    category = book['book_category']\n",
    "    neo_drive.execute_query(\n",
    "        \"\"\"\n",
    "        MATCH (b:BOOK {titolo:$titolo})\n",
    "        SET b.categoria = $categoria\n",
    "        \"\"\",\n",
    "        titolo = title,\n",
    "        categoria = category\n",
    "    )"
   ]
  },
  {
   "cell_type": "code",
   "execution_count": 11,
   "metadata": {},
   "outputs": [],
   "source": [
    "book_titles = []\n",
    "for book in books:\n",
    "    book_titles.append(book['book_title'])"
   ]
  },
  {
   "cell_type": "code",
   "execution_count": null,
   "metadata": {},
   "outputs": [],
   "source": [
    "book_titles"
   ]
  },
  {
   "cell_type": "code",
   "execution_count": 15,
   "metadata": {},
   "outputs": [],
   "source": [
    "records, summary, keys = neo_drive.execute_query(\n",
    "\"MATCH (u:USER) RETURN u.login\"\n",
    ")"
   ]
  },
  {
   "cell_type": "code",
   "execution_count": 22,
   "metadata": {},
   "outputs": [],
   "source": [
    "logins = []\n",
    "for user in records:\n",
    "    logins.append(user['u.login'])"
   ]
  },
  {
   "cell_type": "code",
   "execution_count": 23,
   "metadata": {},
   "outputs": [
    {
     "data": {
      "text/plain": [
       "['luca0000',\n",
       " 'marco0001',\n",
       " 'matteo0002',\n",
       " 'riccardo0003',\n",
       " 'giuseppe0004',\n",
       " 'simone0005',\n",
       " 'davide0006',\n",
       " 'federico0007',\n",
       " 'lorenzo0008',\n",
       " 'alessandro0009',\n",
       " 'francesco0010',\n",
       " 'giulia0011',\n",
       " 'martina0012',\n",
       " 'sara0013',\n",
       " 'alessia0014',\n",
       " 'chiara0015',\n",
       " 'elisa0016',\n",
       " 'elena0017',\n",
       " 'gaia0018',\n",
       " 'federica0019',\n",
       " 'anna0020',\n",
       " 'valentina0021',\n",
       " 'giovanna0022',\n",
       " 'michela0023',\n",
       " 'roberta0024',\n",
       " 'stefania0025',\n",
       " 'laura0026',\n",
       " 'monica0027',\n",
       " 'cristina0028',\n",
       " 'carla0029',\n",
       " 'gabriele0030',\n",
       " 'daniele0031',\n",
       " 'giovanni0032',\n",
       " 'luigi0033',\n",
       " 'antonio0034',\n",
       " 'pietro0035',\n",
       " 'angelo0036',\n",
       " 'giacomo0037',\n",
       " 'enrico0038',\n",
       " 'fabio0039',\n",
       " 'claudio0040',\n",
       " 'massimo0041',\n",
       " 'renato0042',\n",
       " 'nicola0043',\n",
       " 'paolo0044',\n",
       " 'salvatore0045',\n",
       " 'vincenzo0046',\n",
       " 'filippo0047',\n",
       " 'vittorio0048',\n",
       " 'dario0049',\n",
       " 'gianluca0050',\n",
       " 'giorgio0051',\n",
       " 'emanuele0052',\n",
       " 'roberto0053',\n",
       " 'sergio0054',\n",
       " 'mauro0055',\n",
       " 'gabriel0056',\n",
       " 'andrea0057',\n",
       " 'gianni0058',\n",
       " 'francesco0059',\n",
       " 'alessio0060',\n",
       " 'claudio0061',\n",
       " 'marco0062',\n",
       " 'stefano0063',\n",
       " 'giovanni0064',\n",
       " 'mario0065',\n",
       " 'antonio0066',\n",
       " 'angelo0067',\n",
       " 'riccardo0068',\n",
       " 'andrea0069',\n",
       " 'federico0070',\n",
       " 'davide0071',\n",
       " 'daniele0072',\n",
       " 'simone0073',\n",
       " 'paolo0074',\n",
       " 'lorenzo0075',\n",
       " 'fabio0076',\n",
       " 'gianluca0077',\n",
       " 'luca0078',\n",
       " 'andrea0079',\n",
       " 'gianni0080',\n",
       " 'francesco0081',\n",
       " 'alessio0082',\n",
       " 'claudio0083',\n",
       " 'marco0084',\n",
       " 'stefano0085',\n",
       " 'giovanni0086',\n",
       " 'mario0087',\n",
       " 'antonio0088',\n",
       " 'angelo0089',\n",
       " 'riccardo0090',\n",
       " 'andrea0091',\n",
       " 'federico0092',\n",
       " 'davide0093',\n",
       " 'daniele0094',\n",
       " 'simone0095',\n",
       " 'paolo0096',\n",
       " 'lorenzo0097',\n",
       " 'fabio0098',\n",
       " 'gianluca0099']"
      ]
     },
     "execution_count": 23,
     "metadata": {},
     "output_type": "execute_result"
    }
   ],
   "source": [
    "logins"
   ]
  },
  {
   "cell_type": "code",
   "execution_count": 51,
   "metadata": {},
   "outputs": [],
   "source": [
    "import random\n",
    "random.choices(book_titles, k=5)\n",
    "\n",
    "for user in logins:\n",
    "    for book_title in random.choices(book_titles, k=5):\n",
    "        neo_drive.execute_query(\n",
    "            \"\"\"\n",
    "            MATCH (u:USER {login:$login}), (b:BOOK {titolo:$titolo})\n",
    "            MERGE (u)-[v:VISITA {volte:$volte}]->(b)\n",
    "            \"\"\",\n",
    "            login = user,\n",
    "            titolo = book_title,\n",
    "            volte = random.randint(5, 50)\n",
    "        )"
   ]
  },
  {
   "cell_type": "code",
   "execution_count": 49,
   "metadata": {},
   "outputs": [
    {
     "data": {
      "text/plain": [
       "14"
      ]
     },
     "execution_count": 49,
     "metadata": {},
     "output_type": "execute_result"
    }
   ],
   "source": [
    "random.randint(5, 50)"
   ]
  },
  {
   "cell_type": "code",
   "execution_count": 3,
   "metadata": {},
   "outputs": [],
   "source": [
    "records, _, _ = neo_drive.execute_query(\n",
    "\"\"\"\n",
    "MATCH (u:USER {login:'luca0000'}) -[v:VISITA]-> (b:BOOK {titolo:'We Love You, Charlie Freeman'})\n",
    "RETURN v.volte, v.ultima_visita\n",
    "\"\"\")"
   ]
  },
  {
   "cell_type": "code",
   "execution_count": 12,
   "metadata": {},
   "outputs": [
    {
     "data": {
      "text/plain": [
       "int"
      ]
     },
     "execution_count": 12,
     "metadata": {},
     "output_type": "execute_result"
    }
   ],
   "source": [
    "type(records[0]['v.volte'])"
   ]
  },
  {
   "cell_type": "code",
   "execution_count": 20,
   "metadata": {},
   "outputs": [
    {
     "data": {
      "text/plain": [
       "datetime.datetime(2024, 4, 6, 14, 25, 38, 886000)"
      ]
     },
     "execution_count": 20,
     "metadata": {},
     "output_type": "execute_result"
    }
   ],
   "source": [
    "from datetime import datetime\n",
    "\n",
    "datetime.fromtimestamp(1712406338886 / 1000)"
   ]
  }
 ],
 "metadata": {
  "kernelspec": {
   "display_name": "Python 3",
   "language": "python",
   "name": "python3"
  },
  "language_info": {
   "codemirror_mode": {
    "name": "ipython",
    "version": 3
   },
   "file_extension": ".py",
   "mimetype": "text/x-python",
   "name": "python",
   "nbconvert_exporter": "python",
   "pygments_lexer": "ipython3",
   "version": "3.11.3"
  }
 },
 "nbformat": 4,
 "nbformat_minor": 2
}
